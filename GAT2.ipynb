{
  "nbformat": 4,
  "nbformat_minor": 0,
  "metadata": {
    "colab": {
      "provenance": [],
      "gpuType": "T4"
    },
    "kernelspec": {
      "name": "python3",
      "display_name": "Python 3"
    },
    "language_info": {
      "name": "python"
    },
    "accelerator": "GPU"
  },
  "cells": [
    {
      "cell_type": "code",
      "source": [
        "!pip install torch torchvision torchaudio -q\n",
        "!pip install torch-geometric -q\n",
        "!pip install networkx matplotlib seaborn -q\n"
      ],
      "metadata": {
        "id": "0GGkKA-g_sI3",
        "colab": {
          "base_uri": "https://localhost:8080/"
        },
        "outputId": "aebb9ae3-251a-4dcf-aa97-a959237c59a3"
      },
      "execution_count": null,
      "outputs": [
        {
          "output_type": "stream",
          "name": "stdout",
          "text": [
            "\u001b[2K     \u001b[90m━━━━━━━━━━━━━━━━━━━━━━━━━━━━━━━━━━━━━━━━\u001b[0m \u001b[32m63.7/63.7 kB\u001b[0m \u001b[31m2.5 MB/s\u001b[0m eta \u001b[36m0:00:00\u001b[0m\n",
            "\u001b[2K   \u001b[90m━━━━━━━━━━━━━━━━━━━━━━━━━━━━━━━━━━━━━━━━\u001b[0m \u001b[32m1.3/1.3 MB\u001b[0m \u001b[31m34.1 MB/s\u001b[0m eta \u001b[36m0:00:00\u001b[0m\n",
            "\u001b[?25h"
          ]
        }
      ]
    },
    {
      "cell_type": "code",
      "execution_count": null,
      "metadata": {
        "id": "XkkR7v7YaL3D"
      },
      "outputs": [],
      "source": [
        "!gunzip -k amazon0302.txt.gz\n"
      ]
    },
    {
      "cell_type": "code",
      "source": [
        "!ls -l\n",
        "!head -n 10 amazon0302.txt"
      ],
      "metadata": {
        "id": "s5kv5GGibQFi",
        "colab": {
          "base_uri": "https://localhost:8080/"
        },
        "outputId": "245a9e08-4769-4ca4-a990-55c8daf42a67"
      },
      "execution_count": null,
      "outputs": [
        {
          "output_type": "stream",
          "name": "stdout",
          "text": [
            "total 21400\n",
            "-rw-r--r-- 1 root root 17243811 Oct 16 14:17 amazon0302.txt\n",
            "-rw-r--r-- 1 root root  4664334 Oct 16 14:17 amazon0302.txt.gz\n",
            "drwxr-xr-x 1 root root     4096 Oct 14 13:41 sample_data\n",
            "# Directed graph (each unordered pair of nodes is saved once): Amazon0302.txt \n",
            "# Amazon product co-purchaisng network from March 02 2003\n",
            "# Nodes: 262111 Edges: 1234877\n",
            "# FromNodeId\tToNodeId\n",
            "0\t1\n",
            "0\t2\n",
            "0\t3\n",
            "0\t4\n",
            "0\t5\n",
            "1\t0\n"
          ]
        }
      ]
    },
    {
      "cell_type": "code",
      "source": [
        "import networkx as nx\n",
        "import torch\n",
        "import torch.nn as nn\n",
        "import torch.nn.functional as F\n",
        "from torch_geometric.utils import from_networkx\n",
        "from torch_geometric.nn import GATv2Conv, LayerNorm\n",
        "\n",
        "import matplotlib.pyplot as plt\n",
        "import seaborn as sns\n",
        "import pandas as pd\n",
        "sns.set()\n",
        "\n",
        "# 1. Load edge list (skip '#' comments)\n",
        "G = nx.read_edgelist('amazon0302.txt', comments='#', nodetype=int, create_using=nx.Graph())\n",
        "print(f\"NetworkX Graph: {G.number_of_nodes()} nodes, {G.number_of_edges()} edges\")\n",
        "\n",
        "# 2. Convert to PyG Data\n",
        "data = from_networkx(G)\n",
        "print(data)          # includes edge_index but no x,y yet\n",
        "\n",
        "# 3. Relabel nodes 0..N-1 if needed\n",
        "num_nodes = G.number_of_nodes()\n",
        "print(\"num_nodes:\", num_nodes)\n"
      ],
      "metadata": {
        "id": "84TWgNvkhCia",
        "colab": {
          "base_uri": "https://localhost:8080/"
        },
        "outputId": "9eaf5181-d99e-462e-f4cb-25afba6049f9"
      },
      "execution_count": null,
      "outputs": [
        {
          "output_type": "stream",
          "name": "stdout",
          "text": [
            "NetworkX Graph: 262111 nodes, 899792 edges\n",
            "Data(edge_index=[2, 1799584], num_nodes=262111)\n",
            "num_nodes: 262111\n"
          ]
        }
      ]
    },
    {
      "cell_type": "code",
      "source": [
        "# Random 64-dim features\n",
        "feat_dim = 64\n",
        "data.x = torch.randn(num_nodes, feat_dim)\n",
        "\n",
        "# Synthetic labels for demonstration (e.g., 10 classes)\n",
        "num_classes = 10\n",
        "data.y = torch.randint(0, num_classes, (num_nodes,), dtype=torch.long)\n",
        "\n",
        "# Simple split masks\n",
        "perm = torch.randperm(num_nodes)\n",
        "ntrain = int(0.6 * num_nodes)\n",
        "nval   = int(0.2 * num_nodes)\n",
        "train_idx = perm[:ntrain]\n",
        "val_idx   = perm[ntrain:ntrain+nval]\n",
        "test_idx  = perm[ntrain+nval:]\n",
        "\n",
        "data.train_mask = torch.zeros(num_nodes, dtype=torch.bool); data.train_mask[train_idx] = True\n",
        "data.val_mask   = torch.zeros(num_nodes, dtype=torch.bool); data.val_mask[val_idx] = True\n",
        "data.test_mask  = torch.zeros(num_nodes, dtype=torch.bool); data.test_mask[test_idx] = True\n"
      ],
      "metadata": {
        "id": "7SzZVh8DhJ-a"
      },
      "execution_count": null,
      "outputs": []
    },
    {
      "cell_type": "code",
      "source": [
        "# import torch\n",
        "# import torch.nn as nn\n",
        "# import torch.nn.functional as F\n",
        "# from torch_geometric.nn import GATv2Conv, LayerNorm\n",
        "\n",
        "class GATv2NetResidual(nn.Module):\n",
        "    def __init__(self, in_channels, hidden_channels, out_channels, heads=4, dropout=0.6):\n",
        "        super().__init__()\n",
        "        self.conv1 = GATv2Conv(in_channels, hidden_channels, heads=heads, concat=True)\n",
        "        self.norm1 = LayerNorm(hidden_channels * heads)\n",
        "        self.lin1 = nn.Linear(in_channels, hidden_channels * heads)  # for residual\n",
        "\n",
        "        self.conv2 = GATv2Conv(hidden_channels * heads, out_channels, heads=1, concat=False)\n",
        "        self.norm2 = LayerNorm(out_channels)\n",
        "\n",
        "        self.dropout = dropout\n",
        "\n",
        "    def forward(self, x, edge_index):\n",
        "        # First layer with residual\n",
        "        h1 = self.conv1(x, edge_index)\n",
        "        h1 = self.norm1(h1 + self.lin1(x))   # residual + normalization\n",
        "        h1 = F.elu(h1)\n",
        "        h1 = F.dropout(h1, p=self.dropout, training=self.training)\n",
        "\n",
        "        # Second layer with residual (linear skip can be identity since dim matches)\n",
        "        h2 = self.conv2(h1, edge_index)\n",
        "        # Add residual by projecting input to output dim using linear if needed (here input h1 dim != output dim)\n",
        "        # For simplicity, skip residual on output layer or implement if dims align.\n",
        "        h2 = self.norm2(h2)\n",
        "        out = F.log_softmax(h2, dim=1)\n",
        "        return out\n",
        "\n",
        "\n",
        "# Helper to get attention from a single conv call (PyG returns (out, (edge_index, attn_weights)))\n",
        "def conv_with_attention(conv_layer, x, edge_index):\n",
        "    # PyG GATv2Conv supports return_attention_weights=True\n",
        "    out, (edge_idx, attn) = conv_layer(x, edge_index, return_attention_weights=True)\n",
        "    return out, edge_idx, attn\n"
      ],
      "metadata": {
        "id": "q4da9NkNhQ9B"
      },
      "execution_count": null,
      "outputs": []
    },
    {
      "cell_type": "code",
      "source": [
        "def train_epoch2(model, data, optimizer, criterion):\n",
        "    model.train()\n",
        "    optimizer.zero_grad()\n",
        "    out = model(data.x, data.edge_index)\n",
        "    loss = criterion(out[data.train_mask], data.y[data.train_mask])\n",
        "    loss.backward()\n",
        "    optimizer.step()\n",
        "    return loss.item()\n",
        "\n",
        "@torch.no_grad()\n",
        "def evaluate2(model, data):\n",
        "    model.eval()\n",
        "    out = model(data.x, data.edge_index)\n",
        "    preds = out.argmax(dim=1)\n",
        "    acc_train = (preds[data.train_mask] == data.y[data.train_mask]).float().mean().item()\n",
        "    acc_val = (preds[data.val_mask] == data.y[data.val_mask]).float().mean().item()\n",
        "    acc_test = (preds[data.test_mask] == data.y[data.test_mask]).float().mean().item()\n",
        "    return acc_train, acc_val, acc_test\n",
        "\n",
        "def train_and_evaluate(data, model, optimizer, criterion, epochs=100, patience=20):\n",
        "    best_val = 0.0\n",
        "    best_test = 0.0\n",
        "    pat_counter = 0\n",
        "    for epoch in range(1, epochs + 1):\n",
        "        loss = train_epoch2(model, data, optimizer, criterion)\n",
        "        _, acc_val, acc_test = evaluate2(model, data)\n",
        "        if acc_val > best_val:\n",
        "            best_val = acc_val\n",
        "            best_test = acc_test\n",
        "            pat_counter = 0\n",
        "            torch.save(model.state_dict(), 'best_gatv2.pth')\n",
        "        else:\n",
        "            pat_counter += 1\n",
        "        if epoch % 10 == 0:\n",
        "            print(f\"Epoch {epoch:03d} | Loss: {loss:.4f} | Val: {acc_val:.4f} | Test: {acc_test:.4f}\")\n",
        "        if pat_counter >= patience:\n",
        "            print(\"Early stopping\")\n",
        "            break\n",
        "    return best_val, best_test\n",
        "\n",
        "lr_list = [0.001, 0.005, 0.01]\n",
        "hidden_sizes = [8, 16, 32]\n",
        "head_list = [2, 4, 8]\n",
        "\n",
        "results = []\n",
        "device = torch.device('cuda' if torch.cuda.is_available() else 'cpu')\n",
        "\n",
        "# Move data to device once outside loop since unchanged\n",
        "data = data.to(device)\n",
        "\n",
        "for lr in lr_list:\n",
        "    for hs in hidden_sizes:\n",
        "        for hd in head_list:\n",
        "            print(f\"\\nTraining with lr={lr}, hidden={hs}, heads={hd}\")\n",
        "            model = GATv2NetResidual(feat_dim, hs, num_classes, heads=hd).to(device)\n",
        "            optimizer = torch.optim.Adam(model.parameters(), lr=lr, weight_decay=5e-4)\n",
        "            criterion = nn.NLLLoss()\n",
        "            best_val, best_test = train_and_evaluate(data, model, optimizer, criterion)\n",
        "            results.append({\n",
        "                'lr': lr,\n",
        "                'hidden_size': hs,\n",
        "                'heads': hd,\n",
        "                'best_val_acc': best_val,\n",
        "                'best_test_acc': best_test\n",
        "            })\n",
        "\n",
        "df_results = pd.DataFrame(results)\n",
        "\n"
      ],
      "metadata": {
        "colab": {
          "base_uri": "https://localhost:8080/"
        },
        "id": "sD199ftIXpZw",
        "outputId": "bb3d2636-56cb-493a-afec-5a7e35370f81"
      },
      "execution_count": null,
      "outputs": [
        {
          "output_type": "stream",
          "name": "stdout",
          "text": [
            "\n",
            "Training with lr=0.001, hidden=8, heads=2\n",
            "Epoch 010 | Loss: 2.6643 | Val: 0.0983 | Test: 0.0997\n",
            "Epoch 020 | Loss: 2.6088 | Val: 0.0978 | Test: 0.0971\n",
            "Early stopping\n",
            "\n",
            "Training with lr=0.001, hidden=8, heads=4\n",
            "Epoch 010 | Loss: 2.6557 | Val: 0.0985 | Test: 0.0991\n",
            "Epoch 020 | Loss: 2.5963 | Val: 0.0989 | Test: 0.0989\n",
            "Early stopping\n",
            "\n",
            "Training with lr=0.001, hidden=8, heads=8\n",
            "Epoch 010 | Loss: 2.6574 | Val: 0.0985 | Test: 0.1004\n",
            "Epoch 020 | Loss: 2.5908 | Val: 0.0979 | Test: 0.1017\n",
            "Early stopping\n",
            "\n",
            "Training with lr=0.001, hidden=16, heads=2\n",
            "Epoch 010 | Loss: 2.6913 | Val: 0.0998 | Test: 0.1016\n",
            "Epoch 020 | Loss: 2.6578 | Val: 0.0997 | Test: 0.1003\n",
            "Epoch 030 | Loss: 2.6194 | Val: 0.0997 | Test: 0.0995\n",
            "Early stopping\n",
            "\n",
            "Training with lr=0.001, hidden=16, heads=4\n",
            "Epoch 010 | Loss: 2.6783 | Val: 0.1017 | Test: 0.1009\n",
            "Epoch 020 | Loss: 2.6186 | Val: 0.1005 | Test: 0.1017\n",
            "Early stopping\n",
            "\n",
            "Training with lr=0.001, hidden=16, heads=8\n",
            "Epoch 010 | Loss: 2.6698 | Val: 0.0998 | Test: 0.0994\n",
            "Epoch 020 | Loss: 2.5693 | Val: 0.0993 | Test: 0.0980\n",
            "Epoch 030 | Loss: 2.4506 | Val: 0.1003 | Test: 0.0984\n",
            "Epoch 040 | Loss: 2.3690 | Val: 0.0993 | Test: 0.0988\n",
            "Epoch 050 | Loss: 2.3365 | Val: 0.0990 | Test: 0.0978\n",
            "Early stopping\n",
            "\n",
            "Training with lr=0.001, hidden=32, heads=2\n",
            "Epoch 010 | Loss: 2.6625 | Val: 0.0988 | Test: 0.1004\n",
            "Epoch 020 | Loss: 2.5924 | Val: 0.0988 | Test: 0.1019\n",
            "Early stopping\n",
            "\n",
            "Training with lr=0.001, hidden=32, heads=4\n",
            "Epoch 010 | Loss: 2.6410 | Val: 0.1001 | Test: 0.0991\n",
            "Epoch 020 | Loss: 2.5717 | Val: 0.0981 | Test: 0.1006\n",
            "Epoch 030 | Loss: 2.5308 | Val: 0.0982 | Test: 0.1003\n",
            "Early stopping\n",
            "\n",
            "Training with lr=0.001, hidden=32, heads=8\n",
            "Epoch 010 | Loss: 2.6296 | Val: 0.0998 | Test: 0.0982\n",
            "Epoch 020 | Loss: 2.5071 | Val: 0.1011 | Test: 0.0984\n",
            "Epoch 030 | Loss: 2.4036 | Val: 0.1006 | Test: 0.0973\n",
            "Epoch 040 | Loss: 2.3507 | Val: 0.1005 | Test: 0.0981\n",
            "Epoch 050 | Loss: 2.3307 | Val: 0.1000 | Test: 0.0981\n",
            "Early stopping\n",
            "\n",
            "Training with lr=0.005, hidden=8, heads=2\n",
            "Epoch 010 | Loss: 2.5862 | Val: 0.0996 | Test: 0.0996\n",
            "Epoch 020 | Loss: 2.4838 | Val: 0.1019 | Test: 0.0978\n",
            "Epoch 030 | Loss: 2.4063 | Val: 0.1002 | Test: 0.1000\n",
            "Epoch 040 | Loss: 2.3466 | Val: 0.0996 | Test: 0.0984\n",
            "Early stopping\n",
            "\n",
            "Training with lr=0.005, hidden=8, heads=4\n",
            "Epoch 010 | Loss: 2.4854 | Val: 0.1019 | Test: 0.1021\n",
            "Epoch 020 | Loss: 2.3419 | Val: 0.1005 | Test: 0.1002\n",
            "Epoch 030 | Loss: 2.3197 | Val: 0.1034 | Test: 0.0983\n",
            "Epoch 040 | Loss: 2.3135 | Val: 0.1018 | Test: 0.0973\n",
            "Epoch 050 | Loss: 2.3109 | Val: 0.1001 | Test: 0.0988\n",
            "Early stopping\n",
            "\n",
            "Training with lr=0.005, hidden=8, heads=8\n",
            "Epoch 010 | Loss: 2.4104 | Val: 0.1013 | Test: 0.0991\n",
            "Epoch 020 | Loss: 2.3210 | Val: 0.0996 | Test: 0.0990\n",
            "Early stopping\n",
            "\n",
            "Training with lr=0.005, hidden=16, heads=2\n",
            "Epoch 010 | Loss: 2.5734 | Val: 0.0987 | Test: 0.1001\n",
            "Epoch 020 | Loss: 2.3994 | Val: 0.1002 | Test: 0.0999\n",
            "Epoch 030 | Loss: 2.3311 | Val: 0.1006 | Test: 0.0999\n",
            "Epoch 040 | Loss: 2.3184 | Val: 0.1003 | Test: 0.1006\n",
            "Early stopping\n",
            "\n",
            "Training with lr=0.005, hidden=16, heads=4\n",
            "Epoch 010 | Loss: 2.4916 | Val: 0.0984 | Test: 0.1005\n",
            "Epoch 020 | Loss: 2.3399 | Val: 0.1002 | Test: 0.1010\n",
            "Epoch 030 | Loss: 2.3136 | Val: 0.1006 | Test: 0.1025\n",
            "Early stopping\n",
            "\n",
            "Training with lr=0.005, hidden=16, heads=8\n",
            "Epoch 010 | Loss: 2.3919 | Val: 0.0989 | Test: 0.0981\n",
            "Epoch 020 | Loss: 2.3127 | Val: 0.0993 | Test: 0.0975\n",
            "Epoch 030 | Loss: 2.3067 | Val: 0.1002 | Test: 0.0955\n",
            "Epoch 040 | Loss: 2.3048 | Val: 0.1000 | Test: 0.0962\n",
            "Early stopping\n",
            "\n",
            "Training with lr=0.005, hidden=32, heads=2\n",
            "Epoch 010 | Loss: 2.5284 | Val: 0.0981 | Test: 0.0988\n",
            "Epoch 020 | Loss: 2.3562 | Val: 0.1005 | Test: 0.0999\n",
            "Epoch 030 | Loss: 2.3152 | Val: 0.1022 | Test: 0.1008\n",
            "Epoch 040 | Loss: 2.3090 | Val: 0.1018 | Test: 0.1006\n",
            "Epoch 050 | Loss: 2.3065 | Val: 0.1004 | Test: 0.0998\n",
            "Early stopping\n",
            "\n",
            "Training with lr=0.005, hidden=32, heads=4\n",
            "Epoch 010 | Loss: 2.4521 | Val: 0.1013 | Test: 0.0993\n",
            "Epoch 020 | Loss: 2.3163 | Val: 0.1013 | Test: 0.0993\n",
            "Early stopping\n",
            "\n",
            "Training with lr=0.005, hidden=32, heads=8\n",
            "Epoch 010 | Loss: 2.3195 | Val: 0.1011 | Test: 0.1002\n",
            "Epoch 020 | Loss: 2.3056 | Val: 0.1022 | Test: 0.0994\n",
            "Epoch 030 | Loss: 2.3037 | Val: 0.1022 | Test: 0.0972\n",
            "Early stopping\n",
            "\n",
            "Training with lr=0.01, hidden=8, heads=2\n",
            "Epoch 010 | Loss: 2.4797 | Val: 0.1010 | Test: 0.0996\n",
            "Epoch 020 | Loss: 2.3415 | Val: 0.0995 | Test: 0.1004\n",
            "Epoch 030 | Loss: 2.3168 | Val: 0.0992 | Test: 0.0988\n",
            "Epoch 040 | Loss: 2.3098 | Val: 0.0987 | Test: 0.0992\n",
            "Early stopping\n",
            "\n",
            "Training with lr=0.01, hidden=8, heads=4\n",
            "Epoch 010 | Loss: 2.3719 | Val: 0.1013 | Test: 0.1012\n",
            "Epoch 020 | Loss: 2.3153 | Val: 0.1003 | Test: 0.0992\n",
            "Epoch 030 | Loss: 2.3082 | Val: 0.0991 | Test: 0.1001\n",
            "Early stopping\n",
            "\n",
            "Training with lr=0.01, hidden=8, heads=8\n",
            "Epoch 010 | Loss: 2.3345 | Val: 0.0978 | Test: 0.0991\n",
            "Epoch 020 | Loss: 2.3097 | Val: 0.0996 | Test: 0.0992\n",
            "Epoch 030 | Loss: 2.3058 | Val: 0.1003 | Test: 0.0972\n",
            "Epoch 040 | Loss: 2.3044 | Val: 0.0994 | Test: 0.0992\n",
            "Epoch 050 | Loss: 2.3035 | Val: 0.0998 | Test: 0.0980\n",
            "Early stopping\n",
            "\n",
            "Training with lr=0.01, hidden=16, heads=2\n",
            "Epoch 010 | Loss: 2.4397 | Val: 0.0992 | Test: 0.1021\n",
            "Epoch 020 | Loss: 2.3203 | Val: 0.0990 | Test: 0.1015\n",
            "Epoch 030 | Loss: 2.3099 | Val: 0.0999 | Test: 0.0990\n",
            "Early stopping\n",
            "\n",
            "Training with lr=0.01, hidden=16, heads=4\n",
            "Epoch 010 | Loss: 2.3630 | Val: 0.0991 | Test: 0.1012\n",
            "Epoch 020 | Loss: 2.3119 | Val: 0.0959 | Test: 0.1004\n",
            "Early stopping\n",
            "\n",
            "Training with lr=0.01, hidden=16, heads=8\n",
            "Epoch 010 | Loss: 2.3105 | Val: 0.1024 | Test: 0.0972\n",
            "Epoch 020 | Loss: 2.3047 | Val: 0.1000 | Test: 0.0972\n",
            "Early stopping\n",
            "\n",
            "Training with lr=0.01, hidden=32, heads=2\n",
            "Epoch 010 | Loss: 2.4341 | Val: 0.0993 | Test: 0.0981\n",
            "Epoch 020 | Loss: 2.3187 | Val: 0.0986 | Test: 0.1004\n",
            "Early stopping\n",
            "\n",
            "Training with lr=0.01, hidden=32, heads=4\n",
            "Epoch 010 | Loss: 2.3201 | Val: 0.1028 | Test: 0.0995\n",
            "Epoch 020 | Loss: 2.3058 | Val: 0.1010 | Test: 0.0989\n",
            "Epoch 030 | Loss: 2.3038 | Val: 0.1003 | Test: 0.1009\n",
            "Early stopping\n",
            "\n",
            "Training with lr=0.01, hidden=32, heads=8\n",
            "Epoch 010 | Loss: 2.3113 | Val: 0.0999 | Test: 0.0994\n",
            "Epoch 020 | Loss: 2.3035 | Val: 0.0981 | Test: 0.0995\n",
            "Early stopping\n"
          ]
        }
      ]
    },
    {
      "cell_type": "code",
      "source": [
        "grouped_df = df_results.groupby(['lr', 'hidden_size'], as_index=False).agg({'best_val_acc':'mean'})\n",
        "\n",
        "# Plot heatmap for the grouped data\n",
        "def plot_heatmap(df, metric, x_param, y_param, title):\n",
        "    pivot = df.pivot(index=y_param, columns=x_param, values=metric)\n",
        "    plt.figure(figsize=(8, 6))\n",
        "    sns.heatmap(pivot, annot=True, fmt='.4f', cmap='viridis')\n",
        "    plt.title(title)\n",
        "    plt.xlabel(x_param)\n",
        "    plt.ylabel(y_param)\n",
        "    plt.show()\n",
        "\n",
        "# Use the grouped DataFrame for plotting\n",
        "plot_heatmap(grouped_df, 'best_val_acc', 'lr', 'hidden_size', 'Validation Accuracy')"
      ],
      "metadata": {
        "colab": {
          "base_uri": "https://localhost:8080/",
          "height": 504
        },
        "id": "-WELnzeMb-1s",
        "outputId": "860b3acf-ba5f-4d63-b433-7a4fca28d842"
      },
      "execution_count": null,
      "outputs": [
        {
          "output_type": "display_data",
          "data": {
            "text/plain": [
              "<Figure size 800x600 with 2 Axes>"
            ],
            "image/png": "[encoded data removed]"
          },
          "metadata": {}
        }
      ]
    },
    {
      "cell_type": "code",
      "source": [
        "import torch\n",
        "import matplotlib.pyplot as plt\n",
        "import seaborn as sns\n",
        "sns.set()\n",
        "\n",
        "# ----------------------------\n",
        "# Helper: extract attention weights\n",
        "# ----------------------------\n",
        "def get_attention_map(model, data):\n",
        "    model.eval()\n",
        "    device = next(model.parameters()).device   # detect model device\n",
        "    conv = model.conv1\n",
        "    x = data.x.to(device)\n",
        "    edge_index = data.edge_index.to(device)\n",
        "\n",
        "    with torch.no_grad():\n",
        "        out, edge_idx, attn = conv_with_attention(conv, x, edge_index)\n",
        "\n",
        "    edge_idx = edge_idx.cpu()\n",
        "    attn = attn.cpu().detach()\n",
        "\n",
        "    attn = attn.squeeze()\n",
        "    if attn.dim() > 1:\n",
        "        attn = attn.mean(dim=-1)\n",
        "\n",
        "    return edge_idx, attn\n",
        "\n",
        "\n",
        "# ----------------------------\n",
        "# Get edge attention\n",
        "# ----------------------------\n",
        "edge_idx, attn = get_attention_map(model, data)\n",
        "\n",
        "# ----------------------------\n",
        "# Choose node for visualization\n",
        "# ----------------------------\n",
        "u = 0  # any node id\n",
        "srcs = edge_idx[0].numpy()\n",
        "tgts = edge_idx[1].numpy()\n",
        "\n",
        "mask = (tgts == u)\n",
        "src_nodes = srcs[mask]\n",
        "\n",
        "# Convert attention values safely\n",
        "attn_vals = attn[mask].numpy().flatten()\n",
        "\n",
        "# Debug check\n",
        "print(f\"Node {u} has {len(src_nodes)} incoming edges.\")\n",
        "print(f\"Attention shape: {attn_vals.shape}\")\n",
        "\n",
        "# ----------------------------\n",
        "# Plot attention weights\n",
        "# ----------------------------\n",
        "if len(src_nodes) > 0 and len(attn_vals) == len(src_nodes):\n",
        "    plt.figure(figsize=(8, 4))\n",
        "    plt.bar(range(len(src_nodes)), attn_vals)\n",
        "    plt.xlabel('Neighbor index (arbitrary)')\n",
        "    plt.ylabel('Attention weight')\n",
        "    plt.title(f'Attention weights to node {u} from {len(src_nodes)} neighbors')\n",
        "    plt.show()\n",
        "else:\n",
        "    print(\"⚠️ Shape mismatch — skipping plot.\")\n",
        "    print(f\"src_nodes: {len(src_nodes)}, attn_vals: {len(attn_vals)}\")\n"
      ],
      "metadata": {
        "id": "2hv7uBTViqhx",
        "colab": {
          "base_uri": "https://localhost:8080/",
          "height": 394
        },
        "outputId": "844528d8-92df-4b56-e2fd-19c00c81c9dc"
      },
      "execution_count": null,
      "outputs": [
        {
          "output_type": "stream",
          "name": "stdout",
          "text": [
            "Node 0 has 6 incoming edges.\n",
            "Attention shape: (6,)\n"
          ]
        },
        {
          "output_type": "display_data",
          "data": {
            "text/plain": [
              "<Figure size 800x400 with 1 Axes>"
            ],
            "image/png": "[encoded data removed]"
          },
          "metadata": {}
        }
      ]
    }
  ]
}